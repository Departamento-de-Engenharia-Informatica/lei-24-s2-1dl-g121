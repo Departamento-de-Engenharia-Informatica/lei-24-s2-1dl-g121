{
 "cells": [
  {
   "cell_type": "code",
   "execution_count": null,
   "id": "d6174c83",
   "metadata": {
    "is_executing": true
   },
   "outputs": [],
   "source": [
    "%pip install pandas\n",
    "%pip install matplotlib"
   ]
  },
  {
   "cell_type": "code",
   "execution_count": null,
   "id": "c5780d5e",
   "metadata": {
    "is_executing": true
   },
   "outputs": [],
   "source": [
    "import pandas as pd\n",
    "import matplotlib.pyplot as plt"
   ]
  },
  {
   "cell_type": "markdown",
   "id": "113a40c8",
   "metadata": {},
   "source": [
    "## US009"
   ]
  },
  {
   "cell_type": "markdown",
   "id": "0e9807de",
   "metadata": {},
   "source": [
    "### (1) Introduction\n",
    "As a Green Space Manager (GSM), optimizing resource expenditure is a priority, and understanding water consumption costs within parks is cucial  for efficient budget management. In this user storie, the aim is to conduct a statistical analysis using the \"water consumption.csv\" data sheet. Our objectives include visualizing monthly consumption, computing average costs, scrutinizing daily usage, and comparing statistical indicators between parks. Through this analysis, we seek to provide actionable insights for effective water management within green spaces."
   ]
  },
  {
   "cell_type": "code",
   "execution_count": null,
   "id": "3d17b669",
   "metadata": {
    "is_executing": true
   },
   "outputs": [],
   "source": [
    "# Read the data from the CSV file\n",
    "data = pd.read_csv('water_consumption.csv', sep=';')\n",
    "\n",
    "# Replace commas with periods and convert to float\n",
    "data['Consumption'] = data['Consumption'].str.replace(',', '.').astype(float)\n",
    "\n",
    "# Get user inputs\n",
    "year = int(input(\"Enter the year: \"))\n",
    "start_month = int(input(\"Enter the start month: \"))\n",
    "end_month = int(input(\"Enter the end month: \"))\n",
    "park = input(\"Enter the park identification: \")\n",
    "\n",
    "# Filter the data based on user inputs\n",
    "filtered_data = data[(data['Year'] == year) & (data['Month'] >= start_month) & (data['Month'] <= end_month) & (data['Park'] == park)]\n",
    "\n",
    "# Create a bar plot with the filtered data\n",
    "filtered_data.groupby('Month')['Consumption'].mean().plot(kind='bar')\n",
    "plt.ylabel('Average consumption (m³)')\n",
    "plt.title('Average water consumption per month')\n",
    "plt.show()"
   ]
  },
  {
   "cell_type": "markdown",
   "id": "7499a538",
   "metadata": {},
   "source": [
    "### (3) Analisis and interpertation of the results\n",
    "#### US09 - first part\n",
    "This section creates a bar plot illustrating the average monthly water usage for a selected park, within a user-chosen year and specified months for analysis."
   ]
  },
  {
   "cell_type": "code",
   "execution_count": null,
   "id": "0f610a14",
   "metadata": {},
   "outputs": [],
   "source": [
    "# Read the data from the CSV file\n",
    "data = pd.read_csv('water_consumption.csv', sep=';')\n",
    "\n",
    "# Replace commas with periods and convert to float\n",
    "data['Consumption'] = data['Consumption'].str.replace(',', '.').astype(float)\n",
    "\n",
    "# Get user inputs\n",
    "num_parks = int(input(\"Enter the number of parks to be analyzed: \"))\n",
    "park_ids = []\n",
    "for i in range(num_parks):\n",
    "    park_id = input(\"Enter the park identification: \")\n",
    "    park_ids.append(park_id)\n",
    "\n",
    "# Filter the data based on user inputs\n",
    "filtered_data = data[data['Park'].isin(park_ids)]\n",
    "\n",
    "# Calculate the average monthly costs for each park\n",
    "average_costs = filtered_data.groupby(['Park', 'Month'])['Consumption'].mean()\n",
    "\n",
    "# Print the average costs for each park\n",
    "for park_id in park_ids:\n",
    "    print(f\"Average monthly costs for Park {park_id}:\")\n",
    "    print(average_costs[park_id])"
   ]
  },
  {
   "cell_type": "markdown",
   "id": "4ebd2c3c",
   "metadata": {},
   "source": [
    "### (3) Analisis and interpertation of the results\n",
    "#### US09 - second part\n",
    "This segment of the user story 9 presents the average consumption for each month across the parks selected for analysis. The user has the option to analyze one or multiple parks simultaneously."
   ]
  },
  {
   "cell_type": "code",
   "execution_count": null,
   "id": "e651c19b",
   "metadata": {
    "is_executing": true
   },
   "outputs": [],
   "source": [
    "# Read the data from the CSV file\n",
    "data = pd.read_csv('water_consumption.csv', sep=';')\n",
    "\n",
    "# Replace commas with periods and convert to float\n",
    "data['Consumption'] = data['Consumption'].str.replace(',', '.').astype(float)\n",
    "\n",
    "# Filter out parks with null consumption values\n",
    "filtered_data = data[data['Consumption'].notnull()]\n",
    "\n",
    "# --- Find highest and lowest consumption parks ---\n",
    "# Calculate total consumption for each park\n",
    "total_consumption = filtered_data.groupby('Park')['Consumption'].sum()\n",
    "\n",
    "# Identify the park with the most consumption\n",
    "max_park = total_consumption.idxmax()\n",
    "\n",
    "# Identify the park with the least consumption\n",
    "min_park = total_consumption.idxmin()\n",
    "\n",
    "# Filter the data to include only the parks with the most and least consumption\n",
    "filtered_parks = filtered_data[filtered_data['Park'].isin([max_park, min_park])]\n",
    "\n",
    "# --- Calculate the mean, median, standard deviation, and the coefficient of skewness ---\n",
    "# Calculate statistical indicators for these parks\n",
    "park_stats = filtered_parks.groupby('Park')['Consumption'].agg(['mean', 'median', 'std', 'skew'])\n",
    "\n",
    "# Print the statistical indicators\n",
    "park_stats = park_stats.reset_index()\n",
    "display(park_stats)\n",
    "\n",
    "# --- Build relative and absolute frequency tables (classified data), considering 5 classes ---\n",
    "# Calculate total number of observations for each park\n",
    "total_observations_max_park = filtered_data[filtered_data['Park'] == max_park]['Consumption'].count()\n",
    "total_observations_min_park = filtered_data[filtered_data['Park'] == min_park]['Consumption'].count()\n",
    "\n",
    "# Calculate relative frequency tables for each park\n",
    "highest_freq_table = pd.cut(filtered_data[filtered_data['Park'] == max_park]['Consumption'], bins=5).value_counts().sort_index()\n",
    "lowest_freq_table = pd.cut(filtered_data[filtered_data['Park'] == min_park]['Consumption'], bins=5).value_counts().sort_index()\n",
    "\n",
    "# Create DataFrames for the frequency tables\n",
    "highest_freq_df = pd.DataFrame({\n",
    "    'Consumption Intervals': highest_freq_table.index,\n",
    "    'Absolute Freq.': highest_freq_table.values,\n",
    "})\n",
    "\n",
    "lowest_freq_df = pd.DataFrame({\n",
    "    'Consumption Intervals': lowest_freq_table.index,\n",
    "    'Absolute Freq.': lowest_freq_table.values,\n",
    "})\n",
    "\n",
    "# Calculate relative frequency\n",
    "highest_freq_df['Relative Freq.'] = highest_freq_df['Absolute Freq.'] / total_observations_max_park\n",
    "lowest_freq_df['Relative Freq.'] = lowest_freq_df['Absolute Freq.'] / total_observations_min_park\n",
    "\n",
    "# Print the frequency tables\n",
    "print(f\"\\nFrequency table for {max_park}:\")\n",
    "display(highest_freq_df)\n",
    "\n",
    "print(f\"\\nFrequency table for {min_park}:\")\n",
    "display(lowest_freq_df)\n",
    "\n",
    "# --- For each park, check if the data has outliers, using the outlier definition as values that deviate from the median by more than 1.5 times the interquartile range ---\n",
    "\n",
    "# Calculate the interquartile range for each park\n",
    "q1_max_park = filtered_data[filtered_data['Park'] == max_park]['Consumption'].quantile(0.25)\n",
    "q3_max_park = filtered_data[filtered_data['Park'] == max_park]['Consumption'].quantile(0.75)\n",
    "iqr_max_park = q3_max_park - q1_max_park\n",
    "\n",
    "q1_min_park = filtered_data[filtered_data['Park'] == min_park]['Consumption'].quantile(0.25)\n",
    "q3_min_park = filtered_data[filtered_data['Park'] == min_park]['Consumption'].quantile(0.75)\n",
    "iqr_min_park = q3_min_park - q1_min_park\n",
    "\n",
    "# Calculate the lower and upper bounds for each park\n",
    "lower_bound_max_park = q1_max_park - 1.5 * iqr_max_park\n",
    "upper_bound_max_park = q3_max_park + 1.5 * iqr_max_park\n",
    "\n",
    "lower_bound_min_park = q1_min_park - 1.5 * iqr_min_park\n",
    "upper_bound_min_park = q3_min_park + 1.5 * iqr_min_park\n",
    "\n",
    "# Check for outliers in each park\n",
    "outliers_max_park = filtered_data[(filtered_data['Park'] == max_park) & ((filtered_data['Consumption'] < lower_bound_max_park) | (filtered_data['Consumption'] > upper_bound_max_park))]\n",
    "outliers_min_park = filtered_data[(filtered_data['Park'] == min_park) & ((filtered_data['Consumption'] < lower_bound_min_park) | (filtered_data['Consumption'] > upper_bound_min_park))]\n",
    "print(f\"\\nOutliers for {max_park}:\")\n",
    "display(outliers_max_park)\n",
    "\n",
    "print(f\"\\nOutliers for {min_park}:\")\n",
    "display(outliers_min_park)\n",
    "\n",
    "# --- How many outliers are there for each park? ---\n",
    "num_outliers_max_park = outliers_max_park.shape[0]\n",
    "num_outliers_min_park = outliers_min_park.shape[0]\n",
    "print(f\"\\nNumber of outliers for {max_park}: {num_outliers_max_park}\")\n",
    "print(f\"Number of outliers for {min_park}: {num_outliers_min_park}\")\n",
    "\n",
    "\n",
    "\n",
    "\n",
    "# --- Graphically represent data through histograms with 10 and 100 classes ---\n",
    "# Plot histograms with 10 and 100 classes for each park\n",
    "plt.figure(figsize=(12, 6))\n",
    "plt.subplot(2, 2, 1)\n",
    "filtered_data[filtered_data['Park'] == max_park]['Consumption'].plot.hist(bins=10)\n",
    "plt.title(f'Histogram - {max_park} (10 classes)')\n",
    "plt.xlabel('Water Consumption')\n",
    "plt.ylabel('Frequency')\n",
    "\n",
    "plt.subplot(2, 2, 2)\n",
    "filtered_data[filtered_data['Park'] == max_park]['Consumption'].plot.hist(bins=100)\n",
    "plt.title(f'Histogram - {max_park} (100 classes)')\n",
    "plt.xlabel('Water Consumption')\n",
    "plt.ylabel('Frequency')\n",
    "\n",
    "plt.subplot(2, 2, 3)\n",
    "filtered_data[filtered_data['Park'] == min_park]['Consumption'].plot.hist(bins=10)\n",
    "plt.title(f'Histogram - {min_park} (10 classes)')\n",
    "plt.xlabel('Water Consumption')\n",
    "plt.ylabel('Frequency')\n",
    "\n",
    "plt.subplot(2, 2, 4)\n",
    "filtered_data[filtered_data['Park'] == min_park]['Consumption'].plot.hist(bins=100)\n",
    "plt.title(f'Histogram - {min_park} (100 classes)')\n",
    "plt.xlabel('Water Consumption')\n",
    "plt.ylabel('Frequency')\n",
    "\n",
    "plt.tight_layout()\n",
    "plt.show()"
   ]
  },
  {
   "cell_type": "markdown",
   "id": "9841d8af",
   "metadata": {},
   "source": [
    "### (3) Analisis and interpertation of the results\n",
    "#### US09 - last part\n",
    "This topic of the user story has the overall objective of this code snippet is to demonstrate how to read and analyze water consumption data for different parks. It calculates statistical indicators, builds frequency tables, checking outliers, and visualizes the data through histograms. <br>\n",
    "    - Calculate the mean, median, standard deviation, and the coefficient of skewness <br>\n",
    "    $\n",
    "    \\text{Mean} = \\frac{1}{n} \\sum_{i=1}^{n} x_i\n",
    "    $\n",
    "    <br>\n",
    "    $\n",
    "    \\text{Median} = \\begin{cases} \n",
    "      x_{(n/2)} & \\text{if } n \\text{ is even} \\\\\n",
    "      \\frac{1}{2}(x_{(n/2)} + x_{(n/2 + 1)}) & \\text{if } n \\text{ is odd} \n",
    "    \\end{cases}\n",
    "    $\n",
    "    <br>\n",
    "    $\n",
    "    \\text{Standard Deviation} = \\sqrt{\\frac{1}{n} \\sum_{i=1}^{n} (x_i - \\bar{x})^2}\n",
    "    $\n",
    "    <br>\n",
    "    $\n",
    "    \\text{Skewness} = \\frac{\\frac{1}{n} \\sum_{i=1}^{n} (x_i - \\bar{x})^3}{\\left(\\frac{1}{n} \\sum_{i=1}^{n} (x_i - \\bar{x})^2\\right)^{3/2}}\n",
    "    $\n",
    "    <br>\n",
    "    <br>\n",
    "    - Build relative and absolute frequency tables (classified data), considering 5 classes;<br>\n",
    "    Frequency tables are a way to study a population by a certain criteria, in this case we studied the average interval of water consumption by day for the parks who have the most and the least consumption values. Absolute frequency is the number of observations associated with category $i$, ensure that:,<br>\n",
    "    $\n",
    "    \\sum_{i=1}^{c}n_{i}=n\n",
    "    $\n",
    "    <br>\n",
    "     and the relative frequency is the quotient between the absolute frequency of that category and the total number of observations made:<br>\n",
    "     $\n",
    "     f_i = n_i\n",
    "     $\n",
    "<br>"
   ]
  },
  {
   "cell_type": "markdown",
   "id": "f137d9a2",
   "metadata": {},
   "source": [
    "## US010"
   ]
  },
  {
   "cell_type": "code",
   "execution_count": 4,
   "id": "1aa5e028",
   "metadata": {},
   "outputs": [
    {
     "data": {
      "image/png": "[encoded data removed]",
      "text/plain": [
       "<Figure size 800x600 with 1 Axes>"
      ]
     },
     "metadata": {},
     "output_type": "display_data"
    }
   ],
   "source": [
    "# Load the data from EquipmentUsed.csv\n",
    "data = pd.read_csv(\"EquipmentUsed.csv\")\n",
    "\n",
    "# Count the frequency of each piece of equipment\n",
    "equipment_counts = data['Equipment'].value_counts()\n",
    "\n",
    "# Plotting\n",
    "colors = ['dodgerblue', 'firebrick', 'forestgreen', 'violet', 'skyblue', 'orange', 'darkorchid', 'black']\n",
    "plt.figure(figsize=(8, 6))\n",
    "equipment_counts.plot(kind='pie', autopct='%1.1f%%', startangle=100, colors=colors)\n",
    "plt.title('Equipment Usage')\n",
    "plt.ylabel('')\n",
    "plt.show()"
   ]
  },
  {
   "cell_type": "markdown",
   "id": "e0d34ef4",
   "metadata": {},
   "source": [
    "## US011"
   ]
  },
  {
   "cell_type": "code",
   "execution_count": null,
   "id": "2f458c6a",
   "metadata": {},
   "outputs": [],
   "source": [
    "# Read the data from the CSV file\n",
    "data = pd.read_csv('Inquiry.csv', sep=';')\n",
    "\n",
    "# Replace 'Y' and 'N' with 1 and 0, respectively\n",
    "data['Y/N'] = data['Y/N'].replace({'Y': 1, 'N': 0})\n",
    "\n",
    "# Calculate the proportion of users from each age group who would recommend the park\n",
    "proportions = data.groupby('Escalao')['Y/N'].mean()\n",
    "\n",
    "# Print the proportions\n",
    "print(proportions)\n",
    "\n",
    "# Plot the monthly frequency of park visits\n",
    "plt.figure(figsize=(10, 6))\n",
    "data.boxplot(column='Visits', by='Escalao')\n",
    "plt.xlabel('Age Group')\n",
    "plt.ylabel('Monthly Frequency of Use')\n",
    "plt.title('Boxplot of Monthly Frequency of Use by Age Group')\n",
    "plt.show()"
   ]
  }
 ],
 "metadata": {
  "kernelspec": {
   "display_name": "Python 3 (ipykernel)",
   "language": "python",
   "name": "python3"
  },
  "language_info": {
   "codemirror_mode": {
    "name": "ipython",
    "version": 3
   },
   "file_extension": ".py",
   "mimetype": "text/x-python",
   "name": "python",
   "nbconvert_exporter": "python",
   "pygments_lexer": "ipython3",
   "version": "3.10.11"
  }
 },
 "nbformat": 4,
 "nbformat_minor": 5
}
