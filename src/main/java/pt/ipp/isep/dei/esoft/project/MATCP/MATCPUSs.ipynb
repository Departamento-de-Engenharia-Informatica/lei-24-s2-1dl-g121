{
 "cells": [
  {
   "cell_type": "code",
   "execution_count": 1,
   "id": "d6174c83",
   "metadata": {
    "is_executing": true
   },
   "outputs": [
    {
     "name": "stdout",
     "output_type": "stream",
     "text": [
      "Defaulting to user installation because normal site-packages is not writeable\n",
      "Collecting pandas\n",
      "  Downloading pandas-2.2.2-cp39-cp39-macosx_11_0_arm64.whl (11.3 MB)\n",
      "\u001b[K     |████████████████████████████████| 11.3 MB 1.1 MB/s eta 0:00:01\n",
      "\u001b[?25hCollecting numpy>=1.22.4\n",
      "  Downloading numpy-1.26.4-cp39-cp39-macosx_11_0_arm64.whl (14.0 MB)\n",
      "\u001b[K     |████████████████████████████████| 14.0 MB 1.5 MB/s eta 0:00:01\n",
      "\u001b[?25hCollecting pytz>=2020.1\n",
      "  Downloading pytz-2024.1-py2.py3-none-any.whl (505 kB)\n",
      "\u001b[K     |████████████████████████████████| 505 kB 11.5 MB/s eta 0:00:01\n",
      "\u001b[?25hCollecting tzdata>=2022.7\n",
      "  Downloading tzdata-2024.1-py2.py3-none-any.whl (345 kB)\n",
      "\u001b[K     |████████████████████████████████| 345 kB 59.3 MB/s eta 0:00:01\n",
      "\u001b[?25hRequirement already satisfied: python-dateutil>=2.8.2 in /Users/diogogarrett/Library/Python/3.9/lib/python/site-packages (from pandas) (2.9.0.post0)\n",
      "Requirement already satisfied: six>=1.5 in /Library/Developer/CommandLineTools/Library/Frameworks/Python3.framework/Versions/3.9/lib/python3.9/site-packages (from python-dateutil>=2.8.2->pandas) (1.15.0)\n",
      "Installing collected packages: tzdata, pytz, numpy, pandas\n",
      "Successfully installed numpy-1.26.4 pandas-2.2.2 pytz-2024.1 tzdata-2024.1\n",
      "\u001b[33mWARNING: You are using pip version 21.2.4; however, version 24.0 is available.\n",
      "You should consider upgrading via the '/Library/Developer/CommandLineTools/usr/bin/python3 -m pip install --upgrade pip' command.\u001b[0m\n",
      "Note: you may need to restart the kernel to use updated packages.\n",
      "Defaulting to user installation because normal site-packages is not writeable\n",
      "Collecting matplotlib\n",
      "  Downloading matplotlib-3.9.0-cp39-cp39-macosx_11_0_arm64.whl (7.8 MB)\n",
      "\u001b[K     |████████████████████████████████| 7.8 MB 127 kB/s eta 0:00:01\n",
      "\u001b[?25hCollecting contourpy>=1.0.1\n",
      "  Downloading contourpy-1.2.1-cp39-cp39-macosx_11_0_arm64.whl (244 kB)\n",
      "\u001b[K     |████████████████████████████████| 244 kB 1.2 MB/s eta 0:00:01\n",
      "\u001b[?25hRequirement already satisfied: python-dateutil>=2.7 in /Users/diogogarrett/Library/Python/3.9/lib/python/site-packages (from matplotlib) (2.9.0.post0)\n",
      "Collecting kiwisolver>=1.3.1\n",
      "  Downloading kiwisolver-1.4.5-cp39-cp39-macosx_11_0_arm64.whl (66 kB)\n",
      "\u001b[K     |████████████████████████████████| 66 kB 6.9 MB/s  eta 0:00:01\n",
      "\u001b[?25hCollecting pyparsing>=2.3.1\n",
      "  Downloading pyparsing-3.1.2-py3-none-any.whl (103 kB)\n",
      "\u001b[K     |████████████████████████████████| 103 kB 3.8 MB/s eta 0:00:01\n",
      "\u001b[?25hCollecting importlib-resources>=3.2.0\n",
      "  Downloading importlib_resources-6.4.0-py3-none-any.whl (38 kB)\n",
      "Collecting fonttools>=4.22.0\n",
      "  Downloading fonttools-4.51.0-cp39-cp39-macosx_10_9_universal2.whl (2.8 MB)\n",
      "\u001b[K     |████████████████████████████████| 2.8 MB 58.0 MB/s eta 0:00:01\n",
      "\u001b[?25hCollecting cycler>=0.10\n",
      "  Downloading cycler-0.12.1-py3-none-any.whl (8.3 kB)\n",
      "Requirement already satisfied: numpy>=1.23 in /Users/diogogarrett/Library/Python/3.9/lib/python/site-packages (from matplotlib) (1.26.4)\n",
      "Collecting pillow>=8\n",
      "  Downloading pillow-10.3.0-cp39-cp39-macosx_11_0_arm64.whl (3.4 MB)\n",
      "\u001b[K     |████████████████████████████████| 3.4 MB 10.3 MB/s eta 0:00:01\n",
      "\u001b[?25hRequirement already satisfied: packaging>=20.0 in /Users/diogogarrett/Library/Python/3.9/lib/python/site-packages (from matplotlib) (24.0)\n",
      "Requirement already satisfied: zipp>=3.1.0 in /Users/diogogarrett/Library/Python/3.9/lib/python/site-packages (from importlib-resources>=3.2.0->matplotlib) (3.18.2)\n",
      "Requirement already satisfied: six>=1.5 in /Library/Developer/CommandLineTools/Library/Frameworks/Python3.framework/Versions/3.9/lib/python3.9/site-packages (from python-dateutil>=2.7->matplotlib) (1.15.0)\n",
      "Installing collected packages: pyparsing, pillow, kiwisolver, importlib-resources, fonttools, cycler, contourpy, matplotlib\n",
      "Successfully installed contourpy-1.2.1 cycler-0.12.1 fonttools-4.51.0 importlib-resources-6.4.0 kiwisolver-1.4.5 matplotlib-3.9.0 pillow-10.3.0 pyparsing-3.1.2\n",
      "\u001b[33mWARNING: You are using pip version 21.2.4; however, version 24.0 is available.\n",
      "You should consider upgrading via the '/Library/Developer/CommandLineTools/usr/bin/python3 -m pip install --upgrade pip' command.\u001b[0m\n",
      "Note: you may need to restart the kernel to use updated packages.\n"
     ]
    }
   ],
   "source": [
    "%pip install pandas\n",
    "%pip install matplotlib"
   ]
  },
  {
   "cell_type": "code",
   "execution_count": 2,
   "id": "c5780d5e",
   "metadata": {
    "is_executing": true
   },
   "outputs": [
    {
     "name": "stderr",
     "output_type": "stream",
     "text": [
      "Matplotlib is building the font cache; this may take a moment.\n"
     ]
    }
   ],
   "source": [
    "import pandas as pd\n",
    "import matplotlib.pyplot as plt"
   ]
  },
  {
   "cell_type": "markdown",
   "id": "113a40c8",
   "metadata": {},
   "source": [
    "## US009"
   ]
  },
  {
   "cell_type": "markdown",
   "id": "0e9807de",
   "metadata": {},
   "source": [
    "### (1) Introduction\n",
    "As a Green Space Manager (GSM), optimizing resource expenditure is a priority, and understanding water consumption costs within parks is cucial  for efficient budget management. In this user storie, the aim is to conduct a statistical analysis using the \"water consumption.csv\" data sheet. Our objectives include visualizing monthly consumption, computing average costs, scrutinizing daily usage, and comparing statistical indicators between parks. Through this analysis, we seek to provide actionable insights for effective water management within green spaces."
   ]
  },
  {
   "cell_type": "code",
   "execution_count": 3,
   "id": "3d17b669",
   "metadata": {
    "is_executing": true
   },
   "outputs": [
    {
     "data": {
      "image/png": "[encoded data removed]",
      "text/plain": [
       "<Figure size 640x480 with 1 Axes>"
      ]
     },
     "metadata": {},
     "output_type": "display_data"
    }
   ],
   "source": [
    "# Read the data from the CSV file\n",
    "data = pd.read_csv('water_consumption.csv', sep=';')\n",
    "\n",
    "# Replace commas with periods and convert to float\n",
    "data['Consumption'] = data['Consumption'].str.replace(',', '.').astype(float)\n",
    "\n",
    "# Get user inputs\n",
    "year = int(input(\"Enter the year: \"))\n",
    "start_month = int(input(\"Enter the start month: \"))\n",
    "end_month = int(input(\"Enter the end month: \"))\n",
    "park = input(\"Enter the park identification: \")\n",
    "\n",
    "# Filter the data based on user inputs\n",
    "filtered_data = data[(data['Year'] == year) & (data['Month'] >= start_month) & (data['Month'] <= end_month) & (data['Park'] == park)]\n",
    "\n",
    "# Create a bar plot with the filtered data\n",
    "filtered_data.groupby('Month')['Consumption'].mean().plot(kind='bar')\n",
    "plt.ylabel('Average consumption (m³)')\n",
    "plt.title('Average water consumption per month')\n",
    "plt.show()"
   ]
  },
  {
   "cell_type": "markdown",
   "id": "7499a538",
   "metadata": {},
   "source": [
    "### (3) Analisis and interpertation of the results\n",
    "#### US09 - first part\n",
    "This section creates a bar plot illustrating the average monthly water usage for a selected park, within a user-chosen year and specified months for analysis."
   ]
  },
  {
   "cell_type": "code",
   "execution_count": null,
   "id": "0f610a14",
   "metadata": {},
   "outputs": [],
   "source": [
    "# Read the data from the CSV file\n",
    "data = pd.read_csv('water_consumption.csv', sep=';')\n",
    "\n",
    "# Replace commas with periods and convert to float\n",
    "data['Consumption'] = data['Consumption'].str.replace(',', '.').astype(float)\n",
    "\n",
    "# Get user inputs\n",
    "num_parks = int(input(\"Enter the number of parks to be analyzed: \"))\n",
    "park_ids = []\n",
    "for i in range(num_parks):\n",
    "    park_id = input(\"Enter the park identification: \")\n",
    "    park_ids.append(park_id)\n",
    "\n",
    "# Filter the data based on user inputs\n",
    "filtered_data = data[data['Park'].isin(park_ids)]\n",
    "\n",
    "# Calculate the average monthly costs for each park\n",
    "average_costs = filtered_data.groupby(['Park', 'Month'])['Consumption'].mean()\n",
    "\n",
    "# Print the average costs for each park\n",
    "for park_id in park_ids:\n",
    "    print(f\"Average monthly costs for Park {park_id}:\")\n",
    "    print(average_costs[park_id])"
   ]
  },
  {
   "cell_type": "markdown",
   "id": "4ebd2c3c",
   "metadata": {},
   "source": [
    "### (3) Analisis and interpertation of the results\n",
    "#### US09 - second part\n",
    "This segment of the user story 9 presents the average consumption for each month across the parks selected for analysis. The user has the option to analyze one or multiple parks simultaneously."
   ]
  },
  {
   "cell_type": "code",
   "execution_count": null,
   "id": "e651c19b",
   "metadata": {
    "is_executing": true
   },
   "outputs": [],
   "source": [
    "# Read the data from the CSV file\n",
    "data = pd.read_csv('water_consumption.csv', sep=';')\n",
    "\n",
    "# Replace commas with periods and convert to float\n",
    "data['Consumption'] = data['Consumption'].str.replace(',', '.').astype(float)\n",
    "\n",
    "# Filter out parks with null consumption values\n",
    "filtered_data = data[data['Consumption'].notnull()]\n",
    "\n",
    "# --- Find highest and lowest consumption parks ---\n",
    "# Calculate total consumption for each park\n",
    "total_consumption = filtered_data.groupby('Park')['Consumption'].sum()\n",
    "\n",
    "# Identify the park with the most consumption\n",
    "max_park = total_consumption.idxmax()\n",
    "\n",
    "# Identify the park with the least consumption\n",
    "min_park = total_consumption.idxmin()\n",
    "\n",
    "# Filter the data to include only the parks with the most and least consumption\n",
    "filtered_parks = filtered_data[filtered_data['Park'].isin([max_park, min_park])]\n",
    "\n",
    "# --- Calculate the mean, median, standard deviation, and the coefficient of skewness ---\n",
    "# Calculate statistical indicators for these parks\n",
    "park_stats = filtered_parks.groupby('Park')['Consumption'].agg(['mean', 'median', 'std', 'skew'])\n",
    "\n",
    "# Print the statistical indicators\n",
    "park_stats = park_stats.reset_index()\n",
    "display(park_stats)\n",
    "\n",
    "# --- Build relative and absolute frequency tables (classified data), considering 5 classes ---\n",
    "# Calculate total number of observations for each park\n",
    "total_observations_max_park = filtered_data[filtered_data['Park'] == max_park]['Consumption'].count()\n",
    "total_observations_min_park = filtered_data[filtered_data['Park'] == min_park]['Consumption'].count()\n",
    "\n",
    "# Calculate relative frequency tables for each park\n",
    "highest_freq_table = pd.cut(filtered_data[filtered_data['Park'] == max_park]['Consumption'], bins=5).value_counts().sort_index()\n",
    "lowest_freq_table = pd.cut(filtered_data[filtered_data['Park'] == min_park]['Consumption'], bins=5).value_counts().sort_index()\n",
    "\n",
    "# Create DataFrames for the frequency tables\n",
    "highest_freq_df = pd.DataFrame({\n",
    "    'Consumption Intervals': highest_freq_table.index,\n",
    "    'Absolute Freq.': highest_freq_table.values,\n",
    "})\n",
    "\n",
    "lowest_freq_df = pd.DataFrame({\n",
    "    'Consumption Intervals': lowest_freq_table.index,\n",
    "    'Absolute Freq.': lowest_freq_table.values,\n",
    "})\n",
    "\n",
    "# Calculate relative frequency\n",
    "highest_freq_df['Relative Freq.'] = highest_freq_df['Absolute Freq.'] / total_observations_max_park\n",
    "lowest_freq_df['Relative Freq.'] = lowest_freq_df['Absolute Freq.'] / total_observations_min_park\n",
    "\n",
    "# Print the frequency tables\n",
    "print(f\"\\nFrequency table for {max_park}:\")\n",
    "display(highest_freq_df)\n",
    "\n",
    "print(f\"\\nFrequency table for {min_park}:\")\n",
    "display(lowest_freq_df)\n",
    "\n",
    "# --- For each park, check if the data has outliers, using the outlier definition as values that deviate from the median by more than 1.5 times the interquartile range ---\n",
    "\n",
    "# Calculate the interquartile range for each park\n",
    "q1_max_park = filtered_data[filtered_data['Park'] == max_park]['Consumption'].quantile(0.25)\n",
    "q3_max_park = filtered_data[filtered_data['Park'] == max_park]['Consumption'].quantile(0.75)\n",
    "iqr_max_park = q3_max_park - q1_max_park\n",
    "\n",
    "q1_min_park = filtered_data[filtered_data['Park'] == min_park]['Consumption'].quantile(0.25)\n",
    "q3_min_park = filtered_data[filtered_data['Park'] == min_park]['Consumption'].quantile(0.75)\n",
    "iqr_min_park = q3_min_park - q1_min_park\n",
    "\n",
    "# Calculate the lower and upper bounds for each park\n",
    "lower_bound_max_park = q1_max_park - 1.5 * iqr_max_park\n",
    "upper_bound_max_park = q3_max_park + 1.5 * iqr_max_park\n",
    "\n",
    "lower_bound_min_park = q1_min_park - 1.5 * iqr_min_park\n",
    "upper_bound_min_park = q3_min_park + 1.5 * iqr_min_park\n",
    "\n",
    "# Check for outliers in each park\n",
    "outliers_max_park = filtered_data[(filtered_data['Park'] == max_park) & ((filtered_data['Consumption'] < lower_bound_max_park) | (filtered_data['Consumption'] > upper_bound_max_park))]\n",
    "outliers_min_park = filtered_data[(filtered_data['Park'] == min_park) & ((filtered_data['Consumption'] < lower_bound_min_park) | (filtered_data['Consumption'] > upper_bound_min_park))]\n",
    "print(f\"\\nOutliers for {max_park}:\")\n",
    "display(outliers_max_park)\n",
    "\n",
    "print(f\"\\nOutliers for {min_park}:\")\n",
    "display(outliers_min_park)\n",
    "\n",
    "# --- How many outliers are there for each park? ---\n",
    "num_outliers_max_park = outliers_max_park.shape[0]\n",
    "num_outliers_min_park = outliers_min_park.shape[0]\n",
    "print(f\"\\nNumber of outliers for {max_park}: {num_outliers_max_park}\")\n",
    "print(f\"Number of outliers for {min_park}: {num_outliers_min_park}\")\n",
    "\n",
    "\n",
    "\n",
    "\n",
    "# --- Graphically represent data through histograms with 10 and 100 classes ---\n",
    "# Plot histograms with 10 and 100 classes for each park\n",
    "plt.figure(figsize=(12, 6))\n",
    "plt.subplot(2, 2, 1)\n",
    "filtered_data[filtered_data['Park'] == max_park]['Consumption'].plot.hist(bins=10)\n",
    "plt.title(f'Histogram - {max_park} (10 classes)')\n",
    "plt.xlabel('Water Consumption')\n",
    "plt.ylabel('Frequency')\n",
    "\n",
    "plt.subplot(2, 2, 2)\n",
    "filtered_data[filtered_data['Park'] == max_park]['Consumption'].plot.hist(bins=100)\n",
    "plt.title(f'Histogram - {max_park} (100 classes)')\n",
    "plt.xlabel('Water Consumption')\n",
    "plt.ylabel('Frequency')\n",
    "\n",
    "plt.subplot(2, 2, 3)\n",
    "filtered_data[filtered_data['Park'] == min_park]['Consumption'].plot.hist(bins=10)\n",
    "plt.title(f'Histogram - {min_park} (10 classes)')\n",
    "plt.xlabel('Water Consumption')\n",
    "plt.ylabel('Frequency')\n",
    "\n",
    "plt.subplot(2, 2, 4)\n",
    "filtered_data[filtered_data['Park'] == min_park]['Consumption'].plot.hist(bins=100)\n",
    "plt.title(f'Histogram - {min_park} (100 classes)')\n",
    "plt.xlabel('Water Consumption')\n",
    "plt.ylabel('Frequency')\n",
    "\n",
    "plt.tight_layout()\n",
    "plt.show()"
   ]
  },
  {
   "cell_type": "markdown",
   "id": "9841d8af",
   "metadata": {},
   "source": [
    "### (3) Analisis and interpertation of the results\n",
    "#### US09 - last part\n",
    "This topic of the user story has the overall objective of this code snippet is to demonstrate how to read and analyze water consumption data for different parks. It calculates statistical indicators, builds frequency tables, checking outliers, and visualizes the data through histograms. <br>\n",
    "    - Calculate the mean, median, standard deviation, and the coefficient of skewness <br>\n",
    "    $\n",
    "    \\text{Mean} = \\frac{1}{n} \\sum_{i=1}^{n} x_i\n",
    "    $\n",
    "    <br>\n",
    "    $\n",
    "    \\text{Median} = \\begin{cases} \n",
    "      x_{(n/2)} & \\text{if } n \\text{ is even} \\\\\n",
    "      \\frac{1}{2}(x_{(n/2)} + x_{(n/2 + 1)}) & \\text{if } n \\text{ is odd} \n",
    "    \\end{cases}\n",
    "    $\n",
    "    <br>\n",
    "    $\n",
    "    \\text{Standard Deviation} = \\sqrt{\\frac{1}{n} \\sum_{i=1}^{n} (x_i - \\bar{x})^2}\n",
    "    $\n",
    "    <br>\n",
    "    $\n",
    "    \\text{Skewness} = \\frac{\\frac{1}{n} \\sum_{i=1}^{n} (x_i - \\bar{x})^3}{\\left(\\frac{1}{n} \\sum_{i=1}^{n} (x_i - \\bar{x})^2\\right)^{3/2}}\n",
    "    $\n",
    "    <br>\n",
    "    <br>\n",
    "    - Build relative and absolute frequency tables (classified data), considering 5 classes;<br>\n",
    "    Frequency tables are a way to study a population by a certain criteria, in this case we studied the average interval of water consumption by day for the parks who have the most and the least consumption values. Absolute frequency is the number of observations associated with category $i$, ensure that:,<br>\n",
    "    $\n",
    "    \\sum_{i=1}^{c}n_{i}=n\n",
    "    $\n",
    "    <br>\n",
    "     and the relative frequency is the quotient between the absolute frequency of that category and the total number of observations made:<br>\n",
    "     $\n",
    "     f_i = n_i\n",
    "     $\n",
    "<br>"
   ]
  },
  {
   "cell_type": "markdown",
   "id": "f137d9a2",
   "metadata": {},
   "source": [
    "## US010"
   ]
  },
  {
   "cell_type": "code",
   "execution_count": 4,
   "id": "1aa5e028",
   "metadata": {},
   "outputs": [
    {
     "data": {
      "image/png": "[encoded data removed]",
      "text/plain": [
       "<Figure size 800x600 with 1 Axes>"
      ]
     },
     "metadata": {},
     "output_type": "display_data"
    }
   ],
   "source": [
    "# Load the data from EquipmentUsed.csv\n",
    "data = pd.read_csv(\"EquipmentUsed.csv\")\n",
    "\n",
    "# Count the frequency of each piece of equipment\n",
    "equipment_counts = data['Equipment'].value_counts()\n",
    "\n",
    "# Plotting\n",
    "colors = ['dodgerblue', 'firebrick', 'forestgreen', 'violet', 'skyblue', 'orange', 'darkorchid', 'black']\n",
    "plt.figure(figsize=(8, 6))\n",
    "equipment_counts.plot(kind='pie', autopct='%1.1f%%', startangle=100, colors=colors)\n",
    "plt.title('Equipment Usage')\n",
    "plt.ylabel('')\n",
    "plt.show()"
   ]
  },
  {
   "cell_type": "markdown",
   "id": "e0d34ef4",
   "metadata": {},
   "source": [
    "## US011"
   ]
  },
  {
   "cell_type": "code",
   "execution_count": null,
   "id": "2f458c6a",
   "metadata": {},
   "outputs": [],
   "source": [
    "# Read the data from the CSV file\n",
    "data = pd.read_csv('Inquiry.csv', sep=';')\n",
    "\n",
    "# Replace 'Y' and 'N' with 1 and 0, respectively\n",
    "data['Y/N'] = data['Y/N'].replace({'Y': 1, 'N': 0})\n",
    "\n",
    "# Calculate the proportion of users from each age group who would recommend the park\n",
    "proportions = data.groupby('Escalao')['Y/N'].mean()\n",
    "\n",
    "# Print the proportions\n",
    "print(proportions)\n",
    "\n",
    "# Plot the monthly frequency of park visits\n",
    "plt.figure(figsize=(10, 6))\n",
    "data.boxplot(column='Visits', by='Escalao')\n",
    "plt.xlabel('Age Group')\n",
    "plt.ylabel('Monthly Frequency of Use')\n",
    "plt.title('Boxplot of Monthly Frequency of Use by Age Group')\n",
    "plt.show()"
   ]
  },
  {
   "cell_type": "markdown",
   "id": "a137d2f9",
   "metadata": {},
   "source": [
    "# US 16\n"
   ]
  },
  {
   "cell_type": "code",
   "execution_count": 15,
   "id": "fd934d98",
   "metadata": {},
   "outputs": [
    {
     "ename": "KeyError",
     "evalue": "0",
     "output_type": "error",
     "traceback": [
      "\u001b[0;31m---------------------------------------------------------------------------\u001b[0m",
      "\u001b[0;31mKeyError\u001b[0m                                  Traceback (most recent call last)",
      "File \u001b[0;32m~/Library/Python/3.9/lib/python/site-packages/pandas/core/indexes/base.py:3805\u001b[0m, in \u001b[0;36mIndex.get_loc\u001b[0;34m(self, key)\u001b[0m\n\u001b[1;32m   3804\u001b[0m \u001b[38;5;28;01mtry\u001b[39;00m:\n\u001b[0;32m-> 3805\u001b[0m     \u001b[38;5;28;01mreturn\u001b[39;00m \u001b[38;5;28;43mself\u001b[39;49m\u001b[38;5;241;43m.\u001b[39;49m\u001b[43m_engine\u001b[49m\u001b[38;5;241;43m.\u001b[39;49m\u001b[43mget_loc\u001b[49m\u001b[43m(\u001b[49m\u001b[43mcasted_key\u001b[49m\u001b[43m)\u001b[49m\n\u001b[1;32m   3806\u001b[0m \u001b[38;5;28;01mexcept\u001b[39;00m \u001b[38;5;167;01mKeyError\u001b[39;00m \u001b[38;5;28;01mas\u001b[39;00m err:\n",
      "File \u001b[0;32mindex.pyx:167\u001b[0m, in \u001b[0;36mpandas._libs.index.IndexEngine.get_loc\u001b[0;34m()\u001b[0m\n",
      "File \u001b[0;32mindex.pyx:196\u001b[0m, in \u001b[0;36mpandas._libs.index.IndexEngine.get_loc\u001b[0;34m()\u001b[0m\n",
      "File \u001b[0;32mpandas/_libs/hashtable_class_helper.pxi:7081\u001b[0m, in \u001b[0;36mpandas._libs.hashtable.PyObjectHashTable.get_item\u001b[0;34m()\u001b[0m\n",
      "File \u001b[0;32mpandas/_libs/hashtable_class_helper.pxi:7089\u001b[0m, in \u001b[0;36mpandas._libs.hashtable.PyObjectHashTable.get_item\u001b[0;34m()\u001b[0m\n",
      "\u001b[0;31mKeyError\u001b[0m: 0",
      "\nThe above exception was the direct cause of the following exception:\n",
      "\u001b[0;31mKeyError\u001b[0m                                  Traceback (most recent call last)",
      "Cell \u001b[0;32mIn[15], line 5\u001b[0m\n\u001b[1;32m      2\u001b[0m data \u001b[38;5;241m=\u001b[39m pd\u001b[38;5;241m.\u001b[39mread_csv(\u001b[38;5;124m'\u001b[39m\u001b[38;5;124mexecTimes.csv\u001b[39m\u001b[38;5;124m'\u001b[39m, sep \u001b[38;5;241m=\u001b[39m \u001b[38;5;124m'\u001b[39m\u001b[38;5;124m;\u001b[39m\u001b[38;5;124m'\u001b[39m)\n\u001b[1;32m      4\u001b[0m \u001b[38;5;66;03m# Extract input size and execution time\u001b[39;00m\n\u001b[0;32m----> 5\u001b[0m input_size \u001b[38;5;241m=\u001b[39m \u001b[43mdata\u001b[49m\u001b[43m[\u001b[49m\u001b[38;5;241;43m0\u001b[39;49m\u001b[43m]\u001b[49m\n\u001b[1;32m      6\u001b[0m execution_time \u001b[38;5;241m=\u001b[39m data[\u001b[38;5;241m1\u001b[39m]\u001b[38;5;241m.\u001b[39mvalues\n\u001b[1;32m      8\u001b[0m \u001b[38;5;66;03m# Reshape the data for sklearn\u001b[39;00m\n",
      "File \u001b[0;32m~/Library/Python/3.9/lib/python/site-packages/pandas/core/frame.py:4102\u001b[0m, in \u001b[0;36mDataFrame.__getitem__\u001b[0;34m(self, key)\u001b[0m\n\u001b[1;32m   4100\u001b[0m \u001b[38;5;28;01mif\u001b[39;00m \u001b[38;5;28mself\u001b[39m\u001b[38;5;241m.\u001b[39mcolumns\u001b[38;5;241m.\u001b[39mnlevels \u001b[38;5;241m>\u001b[39m \u001b[38;5;241m1\u001b[39m:\n\u001b[1;32m   4101\u001b[0m     \u001b[38;5;28;01mreturn\u001b[39;00m \u001b[38;5;28mself\u001b[39m\u001b[38;5;241m.\u001b[39m_getitem_multilevel(key)\n\u001b[0;32m-> 4102\u001b[0m indexer \u001b[38;5;241m=\u001b[39m \u001b[38;5;28;43mself\u001b[39;49m\u001b[38;5;241;43m.\u001b[39;49m\u001b[43mcolumns\u001b[49m\u001b[38;5;241;43m.\u001b[39;49m\u001b[43mget_loc\u001b[49m\u001b[43m(\u001b[49m\u001b[43mkey\u001b[49m\u001b[43m)\u001b[49m\n\u001b[1;32m   4103\u001b[0m \u001b[38;5;28;01mif\u001b[39;00m is_integer(indexer):\n\u001b[1;32m   4104\u001b[0m     indexer \u001b[38;5;241m=\u001b[39m [indexer]\n",
      "File \u001b[0;32m~/Library/Python/3.9/lib/python/site-packages/pandas/core/indexes/base.py:3812\u001b[0m, in \u001b[0;36mIndex.get_loc\u001b[0;34m(self, key)\u001b[0m\n\u001b[1;32m   3807\u001b[0m     \u001b[38;5;28;01mif\u001b[39;00m \u001b[38;5;28misinstance\u001b[39m(casted_key, \u001b[38;5;28mslice\u001b[39m) \u001b[38;5;129;01mor\u001b[39;00m (\n\u001b[1;32m   3808\u001b[0m         \u001b[38;5;28misinstance\u001b[39m(casted_key, abc\u001b[38;5;241m.\u001b[39mIterable)\n\u001b[1;32m   3809\u001b[0m         \u001b[38;5;129;01mand\u001b[39;00m \u001b[38;5;28many\u001b[39m(\u001b[38;5;28misinstance\u001b[39m(x, \u001b[38;5;28mslice\u001b[39m) \u001b[38;5;28;01mfor\u001b[39;00m x \u001b[38;5;129;01min\u001b[39;00m casted_key)\n\u001b[1;32m   3810\u001b[0m     ):\n\u001b[1;32m   3811\u001b[0m         \u001b[38;5;28;01mraise\u001b[39;00m InvalidIndexError(key)\n\u001b[0;32m-> 3812\u001b[0m     \u001b[38;5;28;01mraise\u001b[39;00m \u001b[38;5;167;01mKeyError\u001b[39;00m(key) \u001b[38;5;28;01mfrom\u001b[39;00m \u001b[38;5;21;01merr\u001b[39;00m\n\u001b[1;32m   3813\u001b[0m \u001b[38;5;28;01mexcept\u001b[39;00m \u001b[38;5;167;01mTypeError\u001b[39;00m:\n\u001b[1;32m   3814\u001b[0m     \u001b[38;5;66;03m# If we have a listlike key, _check_indexing_error will raise\u001b[39;00m\n\u001b[1;32m   3815\u001b[0m     \u001b[38;5;66;03m#  InvalidIndexError. Otherwise we fall through and re-raise\u001b[39;00m\n\u001b[1;32m   3816\u001b[0m     \u001b[38;5;66;03m#  the TypeError.\u001b[39;00m\n\u001b[1;32m   3817\u001b[0m     \u001b[38;5;28mself\u001b[39m\u001b[38;5;241m.\u001b[39m_check_indexing_error(key)\n",
      "\u001b[0;31mKeyError\u001b[0m: 0"
     ]
    }
   ],
   "source": [
    "# Load the CSV file\n",
    "data = pd.read_csv('execTimes.csv', sep = ';')\n",
    "\n",
    "# Extract input size and execution time\n",
    "input_size = data[0].values\n",
    "execution_time = data[1].values\n",
    "\n",
    "# Reshape the data for sklearn\n",
    "input_size = input_size.reshape(-1, 1)\n",
    "\n",
    "# Apply polynomial regression\n",
    "polynomial_features = PolynomialFeatures(degree=2)  # You can change the degree as needed\n",
    "input_size_poly = polynomial_features.fit_transform(input_size)\n",
    "model = LinearRegression()\n",
    "model.fit(input_size_poly, execution_time)\n",
    "execution_time_pred = model.predict(input_size_poly)\n",
    "\n",
    "# Plot the results\n",
    "plt.scatter(input_size, execution_time, color='blue', label='Original data')\n",
    "plt.plot(input_size, execution_time_pred, color='red', label='Polynomial fit')\n",
    "plt.xlabel('Input Size')\n",
    "plt.ylabel('Execution Time')\n",
    "plt.title('Polynomial Regression Fit')\n",
    "plt.legend()\n",
    "plt.savefig('polynomial_regression_fit.png')\n",
    "plt.show()\n"
   ]
  },
  {
   "cell_type": "code",
   "execution_count": null,
   "id": "91a28175",
   "metadata": {},
   "outputs": [],
   "source": []
  }
 ],
 "metadata": {
  "kernelspec": {
   "display_name": "Python 3 (ipykernel)",
   "language": "python",
   "name": "python3"
  },
  "language_info": {
   "codemirror_mode": {
    "name": "ipython",
    "version": 3
   },
   "file_extension": ".py",
   "mimetype": "text/x-python",
   "name": "python",
   "nbconvert_exporter": "python",
   "pygments_lexer": "ipython3",
   "version": "3.9.6"
  }
 },
 "nbformat": 4,
 "nbformat_minor": 5
}
